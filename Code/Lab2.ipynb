{
 "cells": [
  {
   "cell_type": "markdown",
   "metadata": {},
   "source": [
    "## Data Import"
   ]
  },
  {
   "cell_type": "code",
   "execution_count": 120,
   "metadata": {},
   "outputs": [],
   "source": [
    "# Import basic packages lik numpy, pandas, math plot and seaborn\n",
    "import numpy as np\n",
    "import pandas as pd\n",
    "import matplotlib.pyplot as plt\n",
    "import seaborn as sns\n",
    "%matplotlib inline\n",
    "from sklearn.model_selection import train_test_split\n",
    "from sklearn.linear_model import LogisticRegression\n",
    "from sklearn.metrics import classification_report, confusion_matrix\n",
    "from sklearn.preprocessing import MinMaxScaler\n",
    "from sklearn import metrics\n",
    "from sklearn.svm import SVC"
   ]
  },
  {
   "cell_type": "code",
   "execution_count": 105,
   "metadata": {},
   "outputs": [],
   "source": [
    "# import dataset\n",
    "df = pd.read_csv('https://raw.githubusercontent.com/lijjumathew/MSDS-Machine-Learning-1-Project/master/dataset/Telco-Customer-Churn.csv')"
   ]
  },
  {
   "cell_type": "markdown",
   "metadata": {},
   "source": [
    "## Clean Up Data and Create Dummy Variables"
   ]
  },
  {
   "cell_type": "code",
   "execution_count": 106,
   "metadata": {},
   "outputs": [],
   "source": [
    "#Ideally SeniorCitizen column should be a factor, so let's convert 1,0 values to Yes,No and later we can label encode all factor columns\n",
    "df.SeniorCitizen=df.SeniorCitizen.apply(lambda x: 'Yes' if x==1 else 'No')\n",
    "\n",
    "# Getting rid of unwanted columns like Customer Id.\n",
    "if 'customerID' in df:\n",
    "    del df['customerID']\n",
    "    \n",
    "# converting TotalCharges object dataset into numeric\n",
    "# errors = 'coerce’ means, if invalid parsing occur then set NaN\n",
    "df[\"TotalCharges\"] = pd.to_numeric(df[\"TotalCharges\"], errors = 'coerce')\n",
    "\n",
    "# Replacing blank values with nulls.\n",
    "df=df.replace(r'^\\s*$', np.nan, regex=True)\n",
    "\n",
    "# Total charges has some blank values/missing values and needs to be imputed. Filling the missing values\n",
    "df[\"TotalCharges\"].fillna(df[\"TotalCharges\"].mean(), inplace=True)\n",
    "\n",
    "# Consolidate MultipleLines attribute\n",
    "df['MultipleLines'] = df['MultipleLines'].replace('No phone service','No')\n",
    "\n",
    "# Change all values of 'No internet service' to 'No'\n",
    "df = df.replace('No internet service','No')\n",
    "\n",
    "# Replace all yes/no values with 1/0\n",
    "df = df.replace(to_replace=['Yes','No'], value=[1,0])\n",
    "\n",
    "# Create dummy variables in the entire dataset\n",
    "df = pd.get_dummies(df)"
   ]
  },
  {
   "cell_type": "markdown",
   "metadata": {},
   "source": [
    "## Logistic Regression"
   ]
  },
  {
   "cell_type": "code",
   "execution_count": 112,
   "metadata": {},
   "outputs": [],
   "source": [
    "# Separate the churn results from the dataset\n",
    "y = df['Churn'].values\n",
    "x = df.drop(columns = ['Churn'])\n",
    "\n",
    "# Set features\n",
    "features = x.columns.values\n",
    "\n",
    "# Normalize values\n",
    "scale = MinMaxScaler(feature_range = (0,1))\n",
    "scale.fit(x)\n",
    "x = pd.DataFrame(scale.transform(x))\n",
    "x.columns = features"
   ]
  },
  {
   "cell_type": "code",
   "execution_count": 142,
   "metadata": {},
   "outputs": [
    {
     "name": "stdout",
     "output_type": "stream",
     "text": [
      "0.6666666666666666\n",
      "0.538860103626943\n",
      "Our accuracy score of the model using logistic regression is:  0.7998580553584103\n",
      "              precision    recall  f1-score   support\n",
      "\n",
      "           0       0.84      0.90      0.87      1023\n",
      "           1       0.67      0.54      0.60       386\n",
      "\n",
      "    accuracy                           0.80      1409\n",
      "   macro avg       0.75      0.72      0.73      1409\n",
      "weighted avg       0.79      0.80      0.79      1409\n",
      "\n"
     ]
    }
   ],
   "source": [
    "# Set up train/test split with 80/20 ratio\n",
    "x_train, x_test, y_train, y_test = train_test_split(x,y, test_size = 0.2, random_state = 99)\n",
    "\n",
    "# Create the model and fit\n",
    "model = LogisticRegression()\n",
    "fit = model.fit(x_train,y_train)\n",
    "predict = model.predict(x_test)\n",
    "print(\"Our accuracy score of the model using logistic regression is: \",metrics.accuracy_score(y_test,predict))\n",
    "print(classification_report(y_test,predict))"
   ]
  },
  {
   "cell_type": "code",
   "execution_count": 129,
   "metadata": {},
   "outputs": [
    {
     "name": "stdout",
     "output_type": "stream",
     "text": [
      "TotalCharges                               0.987159\n",
      "InternetService_Fiber optic                0.822797\n",
      "Contract_Month-to-month                    0.698867\n",
      "PaperlessBilling                           0.371334\n",
      "PaymentMethod_Electronic check             0.292634\n",
      "MultipleLines                              0.240501\n",
      "SeniorCitizen                              0.233807\n",
      "StreamingTV                                0.181166\n",
      "StreamingMovies                            0.180732\n",
      "gender_Female                              0.016114\n",
      "InternetService_DSL                        0.014568\n",
      "Contract_One year                          0.007922\n",
      "MonthlyCharges                             0.000814\n",
      "gender_Male                               -0.015305\n",
      "PaymentMethod_Mailed check                -0.020221\n",
      "DeviceProtection                          -0.023484\n",
      "Partner                                   -0.056451\n",
      "PaymentMethod_Credit card (automatic)     -0.118700\n",
      "Dependents                                -0.131897\n",
      "OnlineBackup                              -0.138956\n",
      "PaymentMethod_Bank transfer (automatic)   -0.152906\n",
      "TechSupport                               -0.315461\n",
      "PhoneService                              -0.409634\n",
      "OnlineSecurity                            -0.431888\n",
      "Contract_Two year                         -0.705981\n",
      "InternetService_0                         -0.836557\n",
      "tenure                                    -2.867899\n",
      "dtype: float64\n"
     ]
    }
   ],
   "source": [
    "# Calculate and display weights from logistic regression\n",
    "weights = pd.Series(model.coef_[0], index=x.columns.values)\n",
    "print(weights.sort_values(ascending = False))"
   ]
  },
  {
   "cell_type": "markdown",
   "metadata": {},
   "source": [
    "Immediate thoughts on the weights, TotalCharges makes sense. Seeing the month-to-month up there is not surprising and supports our initial EDA findings. Tenure being the least likely to churn also lines up with our EDA findings, most people were likely to churn within the first few months."
   ]
  },
  {
   "cell_type": "markdown",
   "metadata": {},
   "source": [
    "## Support Vectors"
   ]
  },
  {
   "cell_type": "code",
   "execution_count": 141,
   "metadata": {},
   "outputs": [
    {
     "name": "stdout",
     "output_type": "stream",
     "text": [
      "0.6725352112676056\n",
      "0.4948186528497409\n",
      "Our accuracy score of the model using SVM is:  0.7955997161107168\n",
      "This is about the same as our logistic regression model\n"
     ]
    }
   ],
   "source": [
    "# Fit and predict using SVM\n",
    "# Support Vectors are the data points that are closest to the edges of the margin of the separating line.\n",
    "# The separating line and margins are called the hyperplane\n",
    "svm = SVC(kernel='rbf',cache_size=1000)\n",
    "svm.fit(x_train,y_train)\n",
    "predict = svm.predict(x_test)\n",
    "print(\"Our accuracy score of the model using SVM is: \",metrics.accuracy_score(y_test,predict))\n",
    "print(\"This is about the same as our logistic regression model\")"
   ]
  },
  {
   "cell_type": "code",
   "execution_count": 123,
   "metadata": {},
   "outputs": [
    {
     "name": "stdout",
     "output_type": "stream",
     "text": [
      "[[916 107]\n",
      " [189 197]]\n"
     ]
    }
   ],
   "source": [
    "# Confusion matrix\n",
    "print(confusion_matrix(y_test,predict))"
   ]
  },
  {
   "cell_type": "code",
   "execution_count": null,
   "metadata": {},
   "outputs": [],
   "source": []
  }
 ],
 "metadata": {
  "kernelspec": {
   "display_name": "Python 3",
   "language": "python",
   "name": "python3"
  },
  "language_info": {
   "codemirror_mode": {
    "name": "ipython",
    "version": 3
   },
   "file_extension": ".py",
   "mimetype": "text/x-python",
   "name": "python",
   "nbconvert_exporter": "python",
   "pygments_lexer": "ipython3",
   "version": "3.8.3"
  }
 },
 "nbformat": 4,
 "nbformat_minor": 4
}
