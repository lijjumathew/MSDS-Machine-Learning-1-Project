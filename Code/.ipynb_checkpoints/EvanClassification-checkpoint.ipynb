{
 "cells": [
  {
   "cell_type": "markdown",
   "metadata": {},
   "source": [
    "# Lab 2: Classification"
   ]
  },
  {
   "cell_type": "markdown",
   "metadata": {},
   "source": [
    "### Data Preparation"
   ]
  },
  {
   "cell_type": "code",
   "execution_count": 15,
   "metadata": {},
   "outputs": [],
   "source": [
    "# Import basic packages lik numpy, pandas, math plot and seaborn\n",
    "import numpy as np\n",
    "import pandas as pd\n",
    "import matplotlib.pyplot as plt\n",
    "import seaborn as sns\n",
    "import statsmodels.api as sm\n",
    "%matplotlib inline\n",
    "from sklearn.model_selection import train_test_split\n",
    "from sklearn.datasets import make_regression\n",
    "from sklearn.feature_selection import SelectKBest, chi2\n",
    "from sklearn.feature_selection import f_regression\n",
    "from sklearn.linear_model import LogisticRegression\n",
    "from sklearn.metrics import classification_report, confusion_matrix\n",
    "from sklearn.preprocessing import MinMaxScaler\n",
    "from sklearn import metrics\n",
    "from sklearn.svm import SVC\n",
    "from sklearn.linear_model import LassoCV, RidgeCV, ElasticNetCV\n",
    "from sklearn.preprocessing import StandardScaler, PolynomialFeatures\n",
    "from sklearn.ensemble import RandomForestClassifier"
   ]
  },
  {
   "cell_type": "code",
   "execution_count": 2,
   "metadata": {},
   "outputs": [],
   "source": [
    "# import dataset\n",
    "df = pd.read_csv('https://raw.githubusercontent.com/lijjumathew/MSDS-Machine-Learning-1-Project/master/dataset/Telco-Customer-Churn.csv')"
   ]
  },
  {
   "cell_type": "code",
   "execution_count": 3,
   "metadata": {},
   "outputs": [],
   "source": [
    "#Ideally SeniorCitizen column should be a factor, so let's convert 1,0 values to Yes,No and later we can label encode all factor columns\n",
    "df.SeniorCitizen=df.SeniorCitizen.apply(lambda x: 'Yes' if x==1 else 'No')\n",
    "\n",
    "# Getting rid of unwanted columns like Customer Id.\n",
    "if 'customerID' in df:\n",
    "    del df['customerID']\n",
    "    \n",
    "# converting TotalCharges object dataset into numeric\n",
    "# errors = 'coerce’ means, if invalid parsing occur then set NaN\n",
    "df[\"TotalCharges\"] = pd.to_numeric(df[\"TotalCharges\"], errors = 'coerce')\n",
    "\n",
    "# Replacing blank values with nulls.\n",
    "df=df.replace(r'^\\s*$', np.nan, regex=True)\n",
    "\n",
    "# Total charges has some blank values/missing values and needs to be imputed. Filling the missing values\n",
    "df[\"TotalCharges\"].fillna(df[\"TotalCharges\"].mean(), inplace=True)\n",
    "\n",
    "# Consolidate MultipleLines attribute\n",
    "df['MultipleLines'] = df['MultipleLines'].replace('No phone service','No')\n",
    "\n",
    "# Change all values of 'No internet service' to 'No'\n",
    "df = df.replace('No internet service','No')\n",
    "\n",
    "# Replace all yes/no values with 1/0\n",
    "df = df.replace(to_replace=['Yes','No'], value=[1,0])\n",
    "\n",
    "# Create dummy variables in the entire dataset\n",
    "df = pd.get_dummies(df)"
   ]
  },
  {
   "cell_type": "markdown",
   "metadata": {},
   "source": [
    "### Data Split"
   ]
  },
  {
   "cell_type": "code",
   "execution_count": 4,
   "metadata": {},
   "outputs": [],
   "source": [
    "# Separate the churn results from the dataset\n",
    "y = df['MonthlyCharges'].values\n",
    "x = df.drop(columns = ['MonthlyCharges'])\n",
    "\n",
    "# Set features\n",
    "features = x.columns.values\n",
    "\n",
    "# Normalize values\n",
    "scale = MinMaxScaler(feature_range = (0,1))\n",
    "scale.fit(x)\n",
    "x = pd.DataFrame(scale.transform(x))\n",
    "x.columns = features\n",
    "\n",
    "# Set up train/test split with 80/20 ratio\n",
    "x_train, x_test, y_train, y_test = train_test_split(x,y, test_size = 0.2, random_state = 99)"
   ]
  },
  {
   "cell_type": "markdown",
   "metadata": {},
   "source": [
    "### Modeling and Evaluation"
   ]
  },
  {
   "cell_type": "markdown",
   "metadata": {},
   "source": [
    "#### Multiple Linear Regression - Monthly Charges"
   ]
  },
  {
   "cell_type": "markdown",
   "metadata": {},
   "source": [
    "#### Feature Selection"
   ]
  },
  {
   "cell_type": "code",
   "execution_count": 7,
   "metadata": {},
   "outputs": [],
   "source": [
    "def features(x_train, y_train, x_test):\n",
    "    fs = SelectKBest(score_func=f_regression)\n",
    "    fs.fit(x_train,y_train)\n",
    "    x_train_fs = fs.transform(x_train)\n",
    "    x_test_fs = fs.transform(x_test)\n",
    "    return x_train_fs, x_test_fs, fs"
   ]
  },
  {
   "cell_type": "code",
   "execution_count": 8,
   "metadata": {},
   "outputs": [
    {
     "data": {
      "text/plain": [
       "<function matplotlib.pyplot.show(*args, **kw)>"
      ]
     },
     "execution_count": 8,
     "metadata": {},
     "output_type": "execute_result"
    },
    {
     "data": {
      "image/png": "[encoded data removed]",
      "text/plain": [
       "<Figure size 432x288 with 1 Axes>"
      ]
     },
     "metadata": {
      "needs_background": "light"
     },
     "output_type": "display_data"
    }
   ],
   "source": [
    "x_train_fs, x_test_fs, fs = features(x_train, y_train, x_test)\n",
    "plt.bar([i for i in range(len(fs.scores_))], fs.scores_)\n",
    "plt.show"
   ]
  },
  {
   "cell_type": "code",
   "execution_count": 10,
   "metadata": {},
   "outputs": [
    {
     "name": "stdout",
     "output_type": "stream",
     "text": [
      "LASSO best alpha:  0.007488103857590023\n"
     ]
    },
    {
     "data": {
      "text/plain": [
       "[('SeniorCitizen', 0.0),\n",
       " ('Partner', -0.01048733225222931),\n",
       " ('Dependents', 0.0),\n",
       " ('tenure', -0.04708633256700617),\n",
       " ('PhoneService', 5.916531280250363),\n",
       " ('MultipleLines', 2.462403105429277),\n",
       " ('OnlineSecurity', 2.248002111817122),\n",
       " ('OnlineBackup', 2.352837117517344),\n",
       " ('DeviceProtection', 2.3692055711830053),\n",
       " ('TechSupport', 2.265954895176112),\n",
       " ('StreamingTV', 4.8346463899181105),\n",
       " ('StreamingMovies', 4.839358731533135),\n",
       " ('PaperlessBilling', -0.0),\n",
       " ('TotalCharges', 0.11477114074564651),\n",
       " ('Churn', -0.0),\n",
       " ('gender_Female', -0.003031715518489827),\n",
       " ('gender_Male', 1.311522868789053e-17),\n",
       " ('InternetService_0', -14.446861951452755),\n",
       " ('InternetService_DSL', -4.751745984287944),\n",
       " ('InternetService_Fiber optic', 7.394081865029139),\n",
       " ('Contract_Month-to-month', 0.0),\n",
       " ('Contract_One year', 0.0),\n",
       " ('Contract_Two year', -0.0021764854561720256),\n",
       " ('PaymentMethod_Bank transfer (automatic)', 0.0),\n",
       " ('PaymentMethod_Credit card (automatic)', 0.0),\n",
       " ('PaymentMethod_Electronic check', -0.0),\n",
       " ('PaymentMethod_Mailed check', -0.0)]"
      ]
     },
     "execution_count": 10,
     "metadata": {},
     "output_type": "execute_result"
    }
   ],
   "source": [
    "std = StandardScaler()\n",
    "std.fit(x.values)\n",
    "x_scaled = std.transform(x.values)\n",
    "alphavec = 10**np.linspace(-3,3,200)   \n",
    "lasso_model = LassoCV(alphas = alphavec, cv=5)\n",
    "lasso_model.fit(x_scaled, y)\n",
    "print('LASSO best alpha: ', lasso_model.alpha_ )\n",
    "list(zip(x.columns, lasso_model.coef_))\n"
   ]
  },
  {
   "cell_type": "code",
   "execution_count": null,
   "metadata": {},
   "outputs": [],
   "source": []
  }
 ],
 "metadata": {
  "kernelspec": {
   "display_name": "Python 3",
   "language": "python",
   "name": "python3"
  },
  "language_info": {
   "codemirror_mode": {
    "name": "ipython",
    "version": 3
   },
   "file_extension": ".py",
   "mimetype": "text/x-python",
   "name": "python",
   "nbconvert_exporter": "python",
   "pygments_lexer": "ipython3",
   "version": "3.8.3"
  }
 },
 "nbformat": 4,
 "nbformat_minor": 4
}
