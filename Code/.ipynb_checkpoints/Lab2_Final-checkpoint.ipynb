{
 "cells": [
  {
   "cell_type": "markdown",
   "metadata": {},
   "source": [
    "## Import Libraries & Dataset"
   ]
  },
  {
   "cell_type": "code",
   "execution_count": 84,
   "metadata": {},
   "outputs": [],
   "source": [
    "# Import basic packages lik numpy, pandas, math plot and seaborn\n",
    "import numpy as np\n",
    "import pandas as pd\n",
    "import matplotlib.pyplot as plt\n",
    "import seaborn as sns\n",
    "%matplotlib inline\n",
    "from sklearn.model_selection import train_test_split\n",
    "from sklearn.linear_model import LogisticRegression\n",
    "from sklearn.metrics import classification_report, confusion_matrix\n",
    "from sklearn.preprocessing import MinMaxScaler\n",
    "from sklearn.feature_selection import VarianceThreshold, SelectKBest, mutual_info_classif, RFE, SelectFromModel\n",
    "from sklearn import metrics\n",
    "from sklearn.svm import SVC"
   ]
  },
  {
   "cell_type": "code",
   "execution_count": 85,
   "metadata": {},
   "outputs": [],
   "source": [
    "# import dataset\n",
    "df = pd.read_csv('https://raw.githubusercontent.com/lijjumathew/MSDS-Machine-Learning-1-Project/master/dataset/Telco-Customer-Churn.csv')"
   ]
  },
  {
   "cell_type": "markdown",
   "metadata": {},
   "source": [
    "##  Data Cleanup & Dummy Variables"
   ]
  },
  {
   "cell_type": "code",
   "execution_count": 86,
   "metadata": {
    "scrolled": true
   },
   "outputs": [],
   "source": [
    "#Ideally SeniorCitizen column should be a factor, so let's convert 1,0 values to Yes,No and later we can label encode all factor columns\n",
    "df.SeniorCitizen=df.SeniorCitizen.apply(lambda x: 'Yes' if x==1 else 'No')\n",
    "\n",
    "# Getting rid of unwanted columns like Customer Id.\n",
    "if 'customerID' in df:\n",
    "    del df['customerID']\n",
    "    \n",
    "# converting TotalCharges object dataset into numeric\n",
    "# errors = 'coerce’ means, if invalid parsing occur then set NaN\n",
    "df[\"TotalCharges\"] = pd.to_numeric(df[\"TotalCharges\"], errors = 'coerce')\n",
    "\n",
    "# Replacing blank values with nulls.\n",
    "df=df.replace(r'^\\s*$', np.nan, regex=True)\n",
    "\n",
    "# Total charges has some blank values/missing values and needs to be imputed. Filling the missing values\n",
    "df[\"TotalCharges\"].fillna(df[\"TotalCharges\"].mean(), inplace=True)\n",
    "\n",
    "# Consolidate MultipleLines attribute\n",
    "df['MultipleLines'] = df['MultipleLines'].replace('No phone service','No')\n",
    "\n",
    "# Change all values of 'No internet service' to 'No'\n",
    "df = df.replace('No internet service','No')\n",
    "\n",
    "# Replace all yes/no values with 1/0\n",
    "df = df.replace(to_replace=['Yes','No'], value=[1,0])\n",
    "\n",
    "# Create dummy variables in the entire dataset\n",
    "df = pd.get_dummies(df)\n"
   ]
  },
  {
   "cell_type": "markdown",
   "metadata": {},
   "source": [
    "## Data Splitting"
   ]
  },
  {
   "cell_type": "code",
   "execution_count": 87,
   "metadata": {},
   "outputs": [],
   "source": [
    "# Separate the churn results from the dataset\n",
    "y = df['Churn'].values\n",
    "x = df.drop(columns = ['Churn'])\n",
    "\n",
    "# Set features\n",
    "features = x.columns.values\n",
    "\n",
    "# Normalize values\n",
    "scale = MinMaxScaler(feature_range = (0,1))\n",
    "scale.fit(x)\n",
    "x = pd.DataFrame(scale.transform(x))\n",
    "x.columns = features\n",
    "\n",
    "# Set up train/test split with 80/20 ratio\n",
    "x_train, x_test, y_train, y_test = train_test_split(x,y, test_size = 0.2, random_state = 99)"
   ]
  },
  {
   "cell_type": "markdown",
   "metadata": {},
   "source": [
    "## Model Building Approach\n",
    "\n",
    "Our model building approach is to first run feature selection, iterate multiple models using features selected and then do hypertuning<br>\n",
    "**1. Feature Selection** using following methods <br>\n",
    "    1. Removing features using low variance.\n",
    "    2. Univariate feature selection.\n",
    "    3. Recursive feature eliminiation.\n",
    "    4. Select from Model.\n",
    "**2. Hyper Tuning** using following methods <br>\n",
    "    1. Weights grid search\n",
    "    2. Hyperparameter grid search"
   ]
  },
  {
   "cell_type": "markdown",
   "metadata": {},
   "source": [
    "## Feature Selection"
   ]
  },
  {
   "cell_type": "code",
   "execution_count": 88,
   "metadata": {},
   "outputs": [
    {
     "name": "stdout",
     "output_type": "stream",
     "text": [
      "Features selected using low variance elimination : \n",
      " ['Partner', 'Dependents', 'MultipleLines', 'OnlineSecurity', 'OnlineBackup', 'DeviceProtection', 'TechSupport', 'StreamingTV', 'StreamingMovies', 'PaperlessBilling', 'gender_Female', 'gender_Male', 'InternetService_DSL', 'InternetService_Fiber optic', 'Contract_Month-to-month', 'PaymentMethod_Electronic check']\n"
     ]
    }
   ],
   "source": [
    "# 1. Removing features using low variance.\n",
    "def variance_threshold_selector(data, threshold=0):\n",
    "    selector = VarianceThreshold(threshold)\n",
    "    selector.fit(data)\n",
    "    mask = selector.get_support()\n",
    "    low_var_features = [] \n",
    "    feature_names = list(data.columns.values)\n",
    "    for bool, feature in zip(mask, feature_names):\n",
    "        if bool:\n",
    "            low_var_features.append(feature)\n",
    "    return low_var_features\n",
    "\n",
    "# Ran with tresholds of 0,0.1,0.2,0.3,0.4 and looks like threshold of 0.2 gives optimal number of features.\n",
    "variance_features = variance_threshold_selector(x_train,0.2)\n",
    "print(\"Features selected using low variance elimination : \\n\", variance_features)"
   ]
  },
  {
   "cell_type": "code",
   "execution_count": 89,
   "metadata": {},
   "outputs": [
    {
     "name": "stdout",
     "output_type": "stream",
     "text": [
      "Features selected using Univariate selection : \n",
      " ['tenure', 'MonthlyCharges', 'TotalCharges', 'InternetService_0', 'InternetService_Fiber optic', 'Contract_Month-to-month', 'Contract_Two year', 'PaymentMethod_Electronic check']\n"
     ]
    }
   ],
   "source": [
    "# 2. Univariate Selection\n",
    "sel_mutual = SelectKBest(mutual_info_classif, k=8)\n",
    "x_train_mutual = sel_mutual.fit_transform(x_train, y_train)\n",
    "\n",
    "mask = sel_mutual.get_support()\n",
    "univariate_features = [] \n",
    "feature_names = list(x_train.columns.values)\n",
    "for bool, feature in zip(mask, feature_names):\n",
    "    if bool:\n",
    "        univariate_features.append(feature)\n",
    "print(\"Features selected using Univariate selection : \\n\", univariate_features)\n"
   ]
  },
  {
   "cell_type": "code",
   "execution_count": 121,
   "metadata": {},
   "outputs": [
    {
     "name": "stdout",
     "output_type": "stream",
     "text": [
      "Features selected using recursive elimination: \n",
      " ['tenure', 'StreamingTV', 'StreamingMovies', 'MonthlyCharges', 'TotalCharges', 'InternetService_0', 'InternetService_Fiber optic', 'Contract_Month-to-month', 'Contract_Two year', 'PaymentMethod_Electronic check']\n"
     ]
    }
   ],
   "source": [
    "# 3. Recursive Feature Eliminiation\n",
    "\n",
    "model_logistic = LogisticRegression(solver='lbfgs', multi_class='multinomial', max_iter=1000)\n",
    "sel_rfe_logistic = RFE(estimator=model_logistic, n_features_to_select=10, step=1)\n",
    "x_train_rfe_logistic = sel_rfe_logistic.fit_transform(x_train, y_train)\n",
    "\n",
    "mask = sel_rfe_logistic.get_support()\n",
    "recursive_elim_features = [] \n",
    "feature_names = list(x_train.columns.values)\n",
    "for bool, feature in zip(mask, feature_names):\n",
    "    if bool:\n",
    "        recursive_elim_features.append(feature)\n",
    "print(\"Features selected using recursive elimination: \\n\", recursive_elim_features)\n"
   ]
  },
  {
   "cell_type": "code",
   "execution_count": 117,
   "metadata": {},
   "outputs": [
    {
     "name": "stdout",
     "output_type": "stream",
     "text": [
      "Features selected using select from model method : \n",
      " ['tenure', 'MonthlyCharges', 'TotalCharges', 'InternetService_0', 'InternetService_Fiber optic', 'Contract_Month-to-month', 'Contract_Two year', 'PaymentMethod_Electronic check']\n"
     ]
    }
   ],
   "source": [
    "# 4. Feature selection using SelectFromModel\n",
    "model_logistic = LogisticRegression(solver='saga', multi_class='multinomial', max_iter=10000, penalty='l1')\n",
    "sel_model_logistic = SelectFromModel(estimator=model_logistic)\n",
    "x_train_sfm_l1 = sel_model_logistic.fit_transform(x_train, y_train)\n",
    "\n",
    "mask = sel_rfe_logistic.get_support()\n",
    "select_from_features = [] \n",
    "feature_names = list(x_train.columns.values)\n",
    "for bool, feature in zip(mask, feature_names):\n",
    "    if bool:\n",
    "        select_from_features.append(feature)\n",
    "print(\"Features selected using select from model method : \\n\", select_from_features)\n"
   ]
  },
  {
   "cell_type": "markdown",
   "metadata": {},
   "source": [
    "## Logistic Regression - Model Building"
   ]
  },
  {
   "cell_type": "code",
   "execution_count": 108,
   "metadata": {},
   "outputs": [
    {
     "name": "stdout",
     "output_type": "stream",
     "text": [
      "Model 1 - Accuracy:  0.7998580553584103\n",
      "Model 1 - Confusion Matrix: \n",
      " [[919 104]\n",
      " [178 208]]\n",
      "Model 1 - Classification Report: \n",
      "               precision    recall  f1-score   support\n",
      "\n",
      "           0       0.84      0.90      0.87      1023\n",
      "           1       0.67      0.54      0.60       386\n",
      "\n",
      "    accuracy                           0.80      1409\n",
      "   macro avg       0.75      0.72      0.73      1409\n",
      "weighted avg       0.79      0.80      0.79      1409\n",
      "\n",
      "Model 1 - Weights:\n",
      " TotalCharges                               0.987159\n",
      "InternetService_Fiber optic                0.822797\n",
      "Contract_Month-to-month                    0.698867\n",
      "PaperlessBilling                           0.371334\n",
      "PaymentMethod_Electronic check             0.292634\n",
      "MultipleLines                              0.240501\n",
      "SeniorCitizen                              0.233807\n",
      "StreamingTV                                0.181166\n",
      "StreamingMovies                            0.180732\n",
      "gender_Female                              0.016114\n",
      "InternetService_DSL                        0.014568\n",
      "Contract_One year                          0.007922\n",
      "MonthlyCharges                             0.000813\n",
      "gender_Male                               -0.015305\n",
      "PaymentMethod_Mailed check                -0.020220\n",
      "DeviceProtection                          -0.023484\n",
      "Partner                                   -0.056451\n",
      "PaymentMethod_Credit card (automatic)     -0.118700\n",
      "Dependents                                -0.131897\n",
      "OnlineBackup                              -0.138956\n",
      "PaymentMethod_Bank transfer (automatic)   -0.152906\n",
      "TechSupport                               -0.315461\n",
      "PhoneService                              -0.409633\n",
      "OnlineSecurity                            -0.431888\n",
      "Contract_Two year                         -0.705981\n",
      "InternetService_0                         -0.836557\n",
      "tenure                                    -2.867899\n",
      "dtype: float64\n"
     ]
    }
   ],
   "source": [
    "# Model 1 - All Features\n",
    "model1 = LogisticRegression()\n",
    "fit2 = model1.fit(x_train,y_train)\n",
    "predict_model1 = model1.predict(x_test)\n",
    "print(\"Model 1 - Accuracy: \",metrics.accuracy_score(y_test,predict_model1))\n",
    "print(\"Model 1 - Confusion Matrix: \\n\", metrics.confusion_matrix(y_test,predict_model1))\n",
    "print(\"Model 1 - Classification Report: \\n\", classification_report(y_test,predict_model1))\n",
    "weights1 = pd.Series(model1.coef_[0], index=x.columns.values)\n",
    "print(\"Model 1 - Weights:\\n\", weights1.sort_values(ascending = False))\n"
   ]
  },
  {
   "cell_type": "code",
   "execution_count": 122,
   "metadata": {},
   "outputs": [
    {
     "name": "stdout",
     "output_type": "stream",
     "text": [
      "Model 2 - Accuracy:  0.7892122072391767\n",
      "Model 2 - Confusion Matrix: \n",
      " [[925  98]\n",
      " [199 187]]\n",
      "Model 2 - Classification Report: \n",
      "               precision    recall  f1-score   support\n",
      "\n",
      "           0       0.82      0.90      0.86      1023\n",
      "           1       0.66      0.48      0.56       386\n",
      "\n",
      "    accuracy                           0.79      1409\n",
      "   macro avg       0.74      0.69      0.71      1409\n",
      "weighted avg       0.78      0.79      0.78      1409\n",
      "\n",
      "Model 3 - Weights:\n",
      " InternetService_Fiber optic       0.988027\n",
      "Contract_Month-to-month           0.816076\n",
      "PaymentMethod_Electronic check    0.522160\n",
      "MonthlyCharges                    0.229578\n",
      "Contract_Two year                -0.818525\n",
      "InternetService_0                -0.830917\n",
      "tenure                           -2.170806\n",
      "dtype: float64\n"
     ]
    }
   ],
   "source": [
    "# Model 2 - Features ['tenure', 'MonthlyCharges', 'TotalCharges', 'InternetService_0', 'InternetService_Fiber optic', 'Contract_Month-to-month', 'Contract_Two year', 'PaymentMethod_Electronic check']\n",
    "model2_features=['tenure', 'MonthlyCharges', 'InternetService_0', \n",
    "                 'InternetService_Fiber optic', 'Contract_Month-to-month', \n",
    "                 'Contract_Two year', 'PaymentMethod_Electronic check']\n",
    "\n",
    "x_train_model2=x_train[model2_features]\n",
    "x_test_model2=x_test[model2_features]\n",
    "\n",
    "model2 = LogisticRegression()\n",
    "fit2 = model2.fit(x_train_model2,y_train)\n",
    "predict_model2 = model2.predict(x_test_model2)\n",
    "print(\"Model 2 - Accuracy: \",metrics.accuracy_score(y_test,predict_model2))\n",
    "print(\"Model 2 - Confusion Matrix: \\n\", metrics.confusion_matrix(y_test,predict_model2))\n",
    "print(\"Model 2 - Classification Report: \\n\", classification_report(y_test,predict_model2))\n",
    "weights2 = pd.Series(model2.coef_[0], index=x_train_model2.columns.values)\n",
    "print(\"Model 3 - Weights:\\n\", weights2.sort_values(ascending = False))\n",
    "\n"
   ]
  },
  {
   "cell_type": "code",
   "execution_count": 124,
   "metadata": {},
   "outputs": [
    {
     "name": "stdout",
     "output_type": "stream",
     "text": [
      "Model 3 - Accuracy:  0.7785663591199432\n",
      "Model 3 - Confusion Matrix: \n",
      " [[918 105]\n",
      " [207 179]]\n",
      "Model 3 - Classification Report: \n",
      "               precision    recall  f1-score   support\n",
      "\n",
      "           0       0.82      0.90      0.85      1023\n",
      "           1       0.63      0.46      0.53       386\n",
      "\n",
      "    accuracy                           0.78      1409\n",
      "   macro avg       0.72      0.68      0.69      1409\n",
      "weighted avg       0.77      0.78      0.77      1409\n",
      "\n",
      "Model 3 - Weights:\n",
      " InternetService_Fiber optic    1.068643\n",
      "Contract_Month-to-month        0.886151\n",
      "MonthlyCharges                 0.298494\n",
      "Contract_Two year             -0.863665\n",
      "InternetService_0             -0.937093\n",
      "tenure                        -2.264741\n",
      "dtype: float64\n"
     ]
    }
   ],
   "source": [
    "# Model 3 - Features ['tenure', 'TotalCharges', 'InternetService_0', 'InternetService_Fiber optic', 'Contract_Month-to-month', 'Contract_Two year']\n",
    "model3_features=['tenure', 'MonthlyCharges', 'InternetService_0', \n",
    "                 'InternetService_Fiber optic', 'Contract_Month-to-month', \n",
    "                 'Contract_Two year']\n",
    "\n",
    "x_train_model3=x_train[model3_features]\n",
    "x_test_model3=x_test[model3_features]\n",
    "\n",
    "model3 = LogisticRegression()\n",
    "fit3 = model3.fit(x_train_model3,y_train)\n",
    "predict_model3 = model3.predict(x_test_model3)\n",
    "print(\"Model 3 - Accuracy: \",metrics.accuracy_score(y_test,predict_model3))\n",
    "print(\"Model 3 - Confusion Matrix: \\n\", metrics.confusion_matrix(y_test,predict_model3))\n",
    "print(\"Model 3 - Classification Report: \\n\", classification_report(y_test,predict_model3))\n",
    "weights3 = pd.Series(model3.coef_[0], index=x_train_model3.columns.values)\n",
    "print(\"Model 3 - Weights:\\n\", weights3.sort_values(ascending = False))"
   ]
  },
  {
   "cell_type": "code",
   "execution_count": 143,
   "metadata": {},
   "outputs": [
    {
     "name": "stdout",
     "output_type": "stream",
     "text": [
      "Model 4 - Accuracy:  0.8026969481902059\n",
      "Model 4 - Confusion Matrix: \n",
      " [[928  95]\n",
      " [183 203]]\n",
      "Model 4 - Classification Report: \n",
      "               precision    recall  f1-score   support\n",
      "\n",
      "           0       0.84      0.91      0.87      1023\n",
      "           1       0.68      0.53      0.59       386\n",
      "\n",
      "    accuracy                           0.80      1409\n",
      "   macro avg       0.76      0.72      0.73      1409\n",
      "weighted avg       0.79      0.80      0.79      1409\n",
      "\n",
      "Model 4 - Weights:\n",
      " InternetService_Fiber optic       1.468734\n",
      "Contract_Month-to-month           1.048091\n",
      "PaymentMethod_Electronic check    0.481241\n",
      "StreamingMovies                   0.408612\n",
      "StreamingTV                       0.386843\n",
      "InternetService_0                -1.174945\n",
      "MonthlyCharges                   -1.487988\n",
      "tenure                           -2.298676\n",
      "dtype: float64\n"
     ]
    }
   ],
   "source": [
    "# Model 4 - Features ['tenure', 'StreamingTV', 'StreamingMovies', 'MonthlyCharges', 'TotalCharges', 'InternetService_0', 'InternetService_Fiber optic', 'Contract_Month-to-month', 'Contract_Two year', 'PaymentMethod_Electronic check']\n",
    "model4_features=['tenure', 'StreamingTV', 'StreamingMovies', 'MonthlyCharges', \n",
    "                  'InternetService_0', 'InternetService_Fiber optic', \n",
    "                 'Contract_Month-to-month', 'PaymentMethod_Electronic check']\n",
    "x_train_model4=x_train[model4_features]\n",
    "x_test_model4=x_test[model4_features]\n",
    "\n",
    "model4 = LogisticRegression()\n",
    "fit4 = model4.fit(x_train_model4,y_train)\n",
    "predict_model4 = model4.predict(x_test_model4)\n",
    "print(\"Model 4 - Accuracy: \",metrics.accuracy_score(y_test,predict_model4))\n",
    "print(\"Model 4 - Confusion Matrix: \\n\", metrics.confusion_matrix(y_test,predict_model4))\n",
    "print(\"Model 4 - Classification Report: \\n\", classification_report(y_test,predict_model4))\n",
    "weights4 = pd.Series(model4.coef_[0], index=x_train_model4.columns.values)\n",
    "print(\"Model 4 - Weights:\\n\", weights4.sort_values(ascending = False))"
   ]
  },
  {
   "cell_type": "markdown",
   "metadata": {},
   "source": [
    "Immediate thoughts on the weights, TotalCharges makes sense. Seeing the month-to-month up there is not surprising and supports our initial EDA findings. Tenure being the least likely to churn also lines up with our EDA findings, most people were likely to churn within the first few months."
   ]
  },
  {
   "cell_type": "code",
   "execution_count": 9,
   "metadata": {},
   "outputs": [
    {
     "name": "stdout",
     "output_type": "stream",
     "text": [
      "accuracy: 0.7970191625266146\n",
      "[[917 106]\n",
      " [180 206]]\n",
      "tenure has weight of -0.7827311937436287\n",
      "gender_Male has weight of -0.3207009561061886\n",
      "Contract_One year has weight of -0.28773904658151933\n",
      "OnlineSecurity has weight of -0.1958241896445195\n",
      "TechSupport has weight of -0.14652320642901628\n",
      "PhoneService has weight of -0.13398740382900123\n",
      "Contract_Two year has weight of -0.0721570158953758\n",
      "OnlineBackup has weight of -0.07200490850248978\n",
      "Dependents has weight of -0.0599453719782199\n",
      "PaymentMethod_Bank transfer (automatic) has weight of -0.05805321342249359\n",
      "Contract_Month-to-month has weight of -0.045545701800098155\n",
      "InternetService_0 has weight of -0.03962071304805837\n",
      "Partner has weight of -0.030930329684591553\n",
      "DeviceProtection has weight of -0.020756366654214986\n",
      "PaymentMethod_Electronic check has weight of -0.017051146972407984\n",
      "gender_Female has weight of -0.007851641497604044\n",
      "Churn has weight of 0.007851641497605404\n",
      "StreamingMovies has weight of 0.06950857432974115\n",
      "StreamingTV has weight of 0.06980247016133828\n",
      "TotalCharges has weight of 0.07515301970781268\n",
      "SeniorCitizen has weight of 0.0858694802492115\n",
      "MultipleLines has weight of 0.10558964844847249\n",
      "PaymentMethod_Credit card (automatic) has weight of 0.12880647778739682\n",
      "MonthlyCharges has weight of 0.14860581764731154\n",
      "PaperlessBilling has weight of 0.17685579117514452\n",
      "InternetService_Fiber optic has weight of 0.2846629026828026\n",
      "InternetService_DSL has weight of 0.30546130340151295\n"
     ]
    }
   ],
   "source": [
    "from sklearn.preprocessing import StandardScaler\n",
    "\n",
    "# We want to normalize the features based upon the mean and standard deviation of each column. \n",
    "# However, we do not want to accidentally use the testing data to find out the mean and std as this would be snooping.\n",
    "# To make things easier, let's start by just using whatever was last stored in the variables:\n",
    "# X_train , y_train , X_test, y_test (they were set in a for loop above)\n",
    "\n",
    "# scale attributes by the training set\n",
    "scl_obj = StandardScaler()\n",
    "scl_obj.fit(x_train) \n",
    "\n",
    "x_train_scaled = scl_obj.transform(x_train\n",
    "x_test_scaled = scl_obj.transform(x_test) \n",
    "\n",
    "# train the model just as before\n",
    "lr_clf = LogisticRegression(penalty='l2', C=0.05, solver='liblinear') \n",
    "lr_clf.fit(x_train_scaled,y_train) \n",
    "\n",
    "y_hat = lr_clf.predict(x_test_scaled) \n",
    "\n",
    "acc = metrics.accuracy_score(y_test,y_hat)\n",
    "conf = metrics.confusion_matrix(y_test,y_hat)\n",
    "print('accuracy:', acc )\n",
    "print(conf )\n",
    "\n",
    "# sort these attributes and spit them out\n",
    "zip_vars = zip(lr_clf.coef_.T,df.columns) \n",
    "zip_vars = sorted(zip_vars)\n",
    "for coef, name in zip_vars:\n",
    "    print(name, 'has weight of', coef[0]) "
   ]
  },
  {
   "cell_type": "code",
   "execution_count": 10,
   "metadata": {},
   "outputs": [
    {
     "data": {
      "image/png": "[encoded data removed]",
      "text/plain": [
       "<Figure size 432x288 with 1 Axes>"
      ]
     },
     "metadata": {},
     "output_type": "display_data"
    }
   ],
   "source": [
    "# Now let's make a pandas Series with the names and values, and plot them\n",
    "from matplotlib import pyplot as plt\n",
    "%matplotlib inline\n",
    "plt.style.use('ggplot')\n",
    "\n",
    "\n",
    "weights = pd.Series(lr_clf.coef_[0],index=x.columns.values)\n",
    "weights.plot(kind='bar')\n",
    "plt.show()"
   ]
  },
  {
   "cell_type": "code",
   "execution_count": 11,
   "metadata": {},
   "outputs": [
    {
     "name": "stdout",
     "output_type": "stream",
     "text": [
      "AxesSubplot(0.125,0.125;0.775x0.755)\n"
     ]
    },
    {
     "data": {
      "image/png": "[encoded data removed]",
      "text/plain": [
       "<Figure size 432x288 with 1 Axes>"
      ]
     },
     "metadata": {},
     "output_type": "display_data"
    }
   ],
   "source": [
    "# To get the weights of all the variables\n",
    "weights = pd.Series(lr_clf.coef_[0],\n",
    "                 index=x.columns.values)\n",
    "print (weights.sort_values(ascending = False)[:10].plot(kind='bar'))"
   ]
  },
  {
   "cell_type": "code",
   "execution_count": 12,
   "metadata": {},
   "outputs": [
    {
     "name": "stdout",
     "output_type": "stream",
     "text": [
      "AxesSubplot(0.125,0.125;0.775x0.755)\n"
     ]
    },
    {
     "data": {
      "image/png": "[encoded data removed]",
      "text/plain": [
       "<Figure size 432x288 with 1 Axes>"
      ]
     },
     "metadata": {},
     "output_type": "display_data"
    }
   ],
   "source": [
    "print(weights.sort_values(ascending = False)[-10:].plot(kind='bar'))"
   ]
  },
  {
   "cell_type": "markdown",
   "metadata": {},
   "source": [
    "## Observations\n",
    "We can see that some variables have a negative relation to our predicted variable (Churn), while some have positive relation. Negative relation means that likeliness of churn decreases with that variable. Let us summarize some of the interesting features below:\n",
    "\n",
    "As we saw in our EDA, having a monthly contract reduces chances of churn. monthly contract along with tenure have the most negative relation with Churn as predicted by logistic regressions Having DSL internet service also reduces the proability of Churn Lastly, total charges, monthly contracts, fibre optic internet services and seniority can lead to higher churn rates. This is interesting because although fibre optic services are faster, customers are likely to churn because of it. I think we need to explore more to better understad why this is happening. Any hypothesis on the above would be really helpful!"
   ]
  },
  {
   "cell_type": "markdown",
   "metadata": {},
   "source": [
    "## Support Vectors"
   ]
  },
  {
   "cell_type": "code",
   "execution_count": 14,
   "metadata": {},
   "outputs": [
    {
     "name": "stdout",
     "output_type": "stream",
     "text": [
      "Our accuracy score of the model using SVM is:  0.7955997161107168\n",
      "This is about the same as our logistic regression model\n"
     ]
    }
   ],
   "source": [
    "# Fit and predict using SVM\n",
    "# Support Vectors are the data points that are closest to the edges of the margin of the separating line.\n",
    "# The separating line and margins are called the hyperplane\n",
    "svm = SVC(kernel='rbf',cache_size=1000)\n",
    "svm.fit(x_train,y_train)\n",
    "predict = svm.predict(x_test)\n",
    "print(\"Our accuracy score of the model using SVM is: \",metrics.accuracy_score(y_test,predict))\n",
    "print(\"This is about the same as our logistic regression model\")"
   ]
  },
  {
   "cell_type": "code",
   "execution_count": 8,
   "metadata": {},
   "outputs": [
    {
     "name": "stdout",
     "output_type": "stream",
     "text": [
      "[[919 104]\n",
      " [178 208]]\n"
     ]
    }
   ],
   "source": [
    "# Confusion matrix\n",
    "print(confusion_matrix(y_test,predict))"
   ]
  },
  {
   "cell_type": "markdown",
   "metadata": {},
   "source": [
    "## Observations\n",
    "With SVM we get accuracy of up to 79%"
   ]
  },
  {
   "cell_type": "code",
   "execution_count": null,
   "metadata": {},
   "outputs": [],
   "source": []
  }
 ],
 "metadata": {
  "kernelspec": {
   "display_name": "Python 3",
   "language": "python",
   "name": "python3"
  },
  "language_info": {
   "codemirror_mode": {
    "name": "ipython",
    "version": 3
   },
   "file_extension": ".py",
   "mimetype": "text/x-python",
   "name": "python",
   "nbconvert_exporter": "python",
   "pygments_lexer": "ipython3",
   "version": "3.8.3"
  }
 },
 "nbformat": 4,
 "nbformat_minor": 4
}
