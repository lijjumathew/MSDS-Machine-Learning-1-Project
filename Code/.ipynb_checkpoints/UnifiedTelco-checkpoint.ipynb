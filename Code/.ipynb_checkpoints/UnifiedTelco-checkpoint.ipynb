{
 "cells": [
  {
   "cell_type": "markdown",
   "metadata": {},
   "source": [
    "# Lab 1: Visualization and Data Preprocessing\n",
    "## Telco Customer Churn\n",
    "#### Evan Adams, Lijju Mathew, Sid Swarupananda"
   ]
  },
  {
   "cell_type": "markdown",
   "metadata": {},
   "source": [
    "##### Business Understanding\n",
    "Customer churn has many definitions: customer attrition, customer turnover, customer defection, etc. They all refer to tge loss of customers which can be by choice (voluntary) or relocation (involuntary). Our team's goal is to predict which customers are at risk of churning. Our analysis helps the Telco company design activities and create strategies to retain customers, their main asset, and minimize churn. The Telco Customer Churn dataset is from [Kaggle](https://www.kaggle.com/blastchar/telco-customer-churnIn). The dataset has 7,043 entries (customers) and 21 attributes that capture information such as demographics and customer relationship history. All customer entries contain several features and an attribute stating if the customer has churned or not. To better understand the data we will first load it into the pandas package and explore it with the help of some basic commands."
   ]
  },
  {
   "cell_type": "markdown",
   "metadata": {},
   "source": [
    "##### Data Understanding\n",
    "The data contains 7,043 customer entries consisting of 21 attributes. They are detailed below:\n",
    "- **customerID**: Customer ID number\n",
    "- **gender**: Customer's gender (male/female)\n",
    "- **SeniorCitizen**: Senior citizen status (1/0)\n",
    "- **Partner**: Does the customer live with a partner (Yes/No)\n",
    "- **Dependents**: Does the customer have dependents (Yes/No)\n",
    "- **tenure**: Number of months the customer has been with the telco (int)\n",
    "- **PhoneService**: Does the customer have phone service (Yes/No)\n",
    "- **MultipleLines**: Does the customer have multiple phone lines (Yes/No/No phone service)\n",
    "- **InternetService**: Customer's internet type (DSL/Fiber optic/No)\n",
    "- **OnlineSecurity**: Telco provided online security (Yes/No/No internet service)\n",
    "- **OnlineBackup**: Does the customer have online backups (Yes/No/No internet service)\n",
    "- **DeviceProtection**: Does the customer have device protection (Yes/No/No internet service)\n",
    "- **TechSupport**: Does the telco provide tech support to the customer (Yes/No/No internet service)\n",
    "- **StreamingTV**: Does the customer have streaming TV services (Yes/No/No internet service)\n",
    "- **StreamingMovies**: Does the customer have streaming movie services (Yes/No/No internet service)\n",
    "- **Contract**: Customer's contract term in months (Month-to-month/One year/Two year)\n",
    "- **PaperlessBilling**: Does the customer receive physical bills (Yes/No)\n",
    "- **PaymentMethod**: How does the customer pay their bill (Electronic check/Mailed check/Bank transfer (auto)/Credit card (auto))\n",
    "- **MonthlyCharges**: The customer's monthly bill (int)\n",
    "- **TotalCharges**: Total amount charged to the customer over their tenure with the telco (int)\n",
    "- **Churn**: Has the customer left the telco (Yes/No)"
   ]
  },
  {
   "cell_type": "code",
   "execution_count": 1,
   "metadata": {},
   "outputs": [],
   "source": [
    "# import packages\n",
    "import pandas as pd"
   ]
  },
  {
   "cell_type": "code",
   "execution_count": 2,
   "metadata": {},
   "outputs": [],
   "source": [
    "# import dataset\n",
    "df = pd.read_csv('https://raw.githubusercontent.com/lijjumathew/MSDS-Machine-Learning-1-Project/master/dataset/Telco-Customer-Churn.csv')"
   ]
  },
  {
   "cell_type": "markdown",
   "metadata": {},
   "source": [
    "Calling `df.info()` on our dataset gives us the name of each attribute, how many entries there are, how many of them are not null, and what their data type is. We can see that our data is divided into three types: object, int, and float. The object attributes are categorical, the int attributes are continuous integers, and the float attribute is a continuous number value that can contain decimals.\n",
    "\n",
    "The `SeniorCitizen` attribute is of type `int` but it is used as a binary classification of whether the customer is a senior citizen or not. We will be changing this to (yes/no) to be consistent with the rest of the `object` type attributes. This leaves `tenure` as the only `int` object in the dataset.\n",
    "\n",
    "The `TotalCharges` attribute is of type `object` but since it should be a `float` value we are changing it using a pandas function."
   ]
  },
  {
   "cell_type": "code",
   "execution_count": 16,
   "metadata": {},
   "outputs": [
    {
     "name": "stdout",
     "output_type": "stream",
     "text": [
      "<class 'pandas.core.frame.DataFrame'>\n",
      "RangeIndex: 7043 entries, 0 to 7042\n",
      "Data columns (total 21 columns):\n",
      " #   Column            Non-Null Count  Dtype  \n",
      "---  ------            --------------  -----  \n",
      " 0   customerID        7043 non-null   object \n",
      " 1   gender            7043 non-null   object \n",
      " 2   SeniorCitizen     7043 non-null   object \n",
      " 3   Partner           7043 non-null   object \n",
      " 4   Dependents        7043 non-null   object \n",
      " 5   tenure            7043 non-null   int64  \n",
      " 6   PhoneService      7043 non-null   object \n",
      " 7   MultipleLines     7043 non-null   object \n",
      " 8   InternetService   7043 non-null   object \n",
      " 9   OnlineSecurity    7043 non-null   object \n",
      " 10  OnlineBackup      7043 non-null   object \n",
      " 11  DeviceProtection  7043 non-null   object \n",
      " 12  TechSupport       7043 non-null   object \n",
      " 13  StreamingTV       7043 non-null   object \n",
      " 14  StreamingMovies   7043 non-null   object \n",
      " 15  Contract          7043 non-null   object \n",
      " 16  PaperlessBilling  7043 non-null   object \n",
      " 17  PaymentMethod     7043 non-null   object \n",
      " 18  MonthlyCharges    7043 non-null   float64\n",
      " 19  TotalCharges      7043 non-null   float64\n",
      " 20  Churn             7043 non-null   object \n",
      "dtypes: float64(2), int64(1), object(18)\n",
      "memory usage: 1.1+ MB\n"
     ]
    }
   ],
   "source": [
    "df.info()"
   ]
  },
  {
   "cell_type": "code",
   "execution_count": 14,
   "metadata": {},
   "outputs": [],
   "source": [
    "# convert TotalCharges to float and replace the empty values with the mean value of TotalCharges\n",
    "# convert SeniorCitizen to (Yes/No)\n",
    "df[\"TotalCharges\"] = pd.to_numeric(df[\"TotalCharges\"], errors = 'coerce')\n",
    "df[\"TotalCharges\"].fillna(df[\"TotalCharges\"].mean(), inplace=True)\n",
    "df[\"SeniorCitizen\"] = df.replace({0:\"No\", 1:\"Yes\"})"
   ]
  },
  {
   "cell_type": "markdown",
   "metadata": {},
   "source": [
    "##### Data Quality\n",
    "There are no null values in the dataset, although there are eleven missing values in the `TotalCharges` attribute and we will fill those in with the mean of the `TotalCharges` column."
   ]
  },
  {
   "cell_type": "markdown",
   "metadata": {},
   "source": [
    "##### Simple Statistics\n",
    "The dataset has three continuous variables to analyze. Using the `df.describe()` function we can make the following observations:\n",
    "- Half of the customers remain in the company for more than 29 months\n",
    "- The average monthly bill is about \\$65\n",
    "- The average revenue generated per customer is about $2284"
   ]
  },
  {
   "cell_type": "code",
   "execution_count": 15,
   "metadata": {},
   "outputs": [
    {
     "data": {
      "text/html": [
       "<div>\n",
       "<style scoped>\n",
       "    .dataframe tbody tr th:only-of-type {\n",
       "        vertical-align: middle;\n",
       "    }\n",
       "\n",
       "    .dataframe tbody tr th {\n",
       "        vertical-align: top;\n",
       "    }\n",
       "\n",
       "    .dataframe thead th {\n",
       "        text-align: right;\n",
       "    }\n",
       "</style>\n",
       "<table border=\"1\" class=\"dataframe\">\n",
       "  <thead>\n",
       "    <tr style=\"text-align: right;\">\n",
       "      <th></th>\n",
       "      <th>tenure</th>\n",
       "      <th>MonthlyCharges</th>\n",
       "      <th>TotalCharges</th>\n",
       "    </tr>\n",
       "  </thead>\n",
       "  <tbody>\n",
       "    <tr>\n",
       "      <th>count</th>\n",
       "      <td>7043.000000</td>\n",
       "      <td>7043.000000</td>\n",
       "      <td>7043.000000</td>\n",
       "    </tr>\n",
       "    <tr>\n",
       "      <th>mean</th>\n",
       "      <td>32.371149</td>\n",
       "      <td>64.761692</td>\n",
       "      <td>2283.300441</td>\n",
       "    </tr>\n",
       "    <tr>\n",
       "      <th>std</th>\n",
       "      <td>24.559481</td>\n",
       "      <td>30.090047</td>\n",
       "      <td>2265.000258</td>\n",
       "    </tr>\n",
       "    <tr>\n",
       "      <th>min</th>\n",
       "      <td>0.000000</td>\n",
       "      <td>18.250000</td>\n",
       "      <td>18.800000</td>\n",
       "    </tr>\n",
       "    <tr>\n",
       "      <th>25%</th>\n",
       "      <td>9.000000</td>\n",
       "      <td>35.500000</td>\n",
       "      <td>402.225000</td>\n",
       "    </tr>\n",
       "    <tr>\n",
       "      <th>50%</th>\n",
       "      <td>29.000000</td>\n",
       "      <td>70.350000</td>\n",
       "      <td>1400.550000</td>\n",
       "    </tr>\n",
       "    <tr>\n",
       "      <th>75%</th>\n",
       "      <td>55.000000</td>\n",
       "      <td>89.850000</td>\n",
       "      <td>3786.600000</td>\n",
       "    </tr>\n",
       "    <tr>\n",
       "      <th>max</th>\n",
       "      <td>72.000000</td>\n",
       "      <td>118.750000</td>\n",
       "      <td>8684.800000</td>\n",
       "    </tr>\n",
       "  </tbody>\n",
       "</table>\n",
       "</div>"
      ],
      "text/plain": [
       "            tenure  MonthlyCharges  TotalCharges\n",
       "count  7043.000000     7043.000000   7043.000000\n",
       "mean     32.371149       64.761692   2283.300441\n",
       "std      24.559481       30.090047   2265.000258\n",
       "min       0.000000       18.250000     18.800000\n",
       "25%       9.000000       35.500000    402.225000\n",
       "50%      29.000000       70.350000   1400.550000\n",
       "75%      55.000000       89.850000   3786.600000\n",
       "max      72.000000      118.750000   8684.800000"
      ]
     },
     "execution_count": 15,
     "metadata": {},
     "output_type": "execute_result"
    }
   ],
   "source": [
    "df.describe()"
   ]
  },
  {
   "cell_type": "markdown",
   "metadata": {},
   "source": [
    "##### Visualize Attributes\n",
    "Visualization of data is the simplest form of analysis that allows us to examine how each variable relates to the churn rate. Our major takeaways are as follows:\n",
    "\n",
    "- The churn percent is almost equal in the case of males and females\n",
    "- The percent of churn is higher in the case of senior citizens\n",
    "- The churn rate is higher for customers who have phone service\n",
    "- Customers with Partners and Dependents have a lower churn rate compared to those who do not\n",
    "- Customers with an electronic payment method have a higher churn rate compared to other payment methods\n",
    "- Customers with no internet service have a low churn rate\n",
    "- Churn rate is much higher in customers with Fiber Optic internet services\n",
    "- Customers who do not have services like OnlineSecurity, OnlineBackup, and TechSupport have left the platform in the past month # Evan note: how do we know this?"
   ]
  }
 ],
 "metadata": {
  "celltoolbar": "Raw Cell Format",
  "kernelspec": {
   "display_name": "Python 3",
   "language": "python",
   "name": "python3"
  },
  "language_info": {
   "codemirror_mode": {
    "name": "ipython",
    "version": 3
   },
   "file_extension": ".py",
   "mimetype": "text/x-python",
   "name": "python",
   "nbconvert_exporter": "python",
   "pygments_lexer": "ipython3",
   "version": "3.8.3"
  }
 },
 "nbformat": 4,
 "nbformat_minor": 4
}
